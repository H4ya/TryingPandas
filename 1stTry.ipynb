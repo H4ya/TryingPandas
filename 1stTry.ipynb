{
 "cells": [
  {
   "cell_type": "code",
   "execution_count": 94,
   "metadata": {},
   "outputs": [],
   "source": [
    "import pandas as pd"
   ]
  },
  {
   "cell_type": "code",
   "execution_count": 95,
   "metadata": {},
   "outputs": [
    {
     "name": "stderr",
     "output_type": "stream",
     "text": [
      "C:\\Users\\h4yat\\AppData\\Local\\Temp\\ipykernel_16048\\2553718368.py:1: DtypeWarning: Columns (1,10) have mixed types. Specify dtype option on import or set low_memory=False.\n",
      "  df = pd.read_csv(\"data.csv\") #reading only/ defending the variable for the data file\n"
     ]
    }
   ],
   "source": [
    "df = pd.read_csv(\"data.csv\") #reading only/ defending the variable for the data file\n",
    "new_df=df.loc[:,[\"reviews.rating\",\"reviews.title\",\"reviews.text\"]]\n",
    "'''The new data file I created will take the first 100 row with the selected columns!'''\n",
    "new_df.to_csv(\"reviewsOnly.csv\") # Naming the new data file and converting it to .csv "
   ]
  },
  {
   "cell_type": "code",
   "execution_count": 96,
   "metadata": {},
   "outputs": [],
   "source": [
    "import numpy as np\n",
    "def ch(percent):\n",
    "    if percent <= 45:\n",
    "        return \"awful\"\n",
    "    else:\n",
    "        return \"awesome\"\n",
    "#the function will be useful"
   ]
  },
  {
   "cell_type": "code",
   "execution_count": 97,
   "metadata": {},
   "outputs": [
    {
     "data": {
      "text/plain": [
       "'apply() و map() متشابهتان في تطبيقهما على كل عنصر في سلسلة.\\napply() أكثر مرونة وتُستخدم لعمليات مُعقدة.\\nmap() أسرع وأكثر كفاءة لعمليات بسيطة.\\napplymap() تُستخدم لتطبيق وظائف على DataFrame بأكملها أو على صفوفها أو أعمدتها.'"
      ]
     },
     "execution_count": 97,
     "metadata": {},
     "output_type": "execute_result"
    }
   ],
   "source": [
    "new_df=pd.read_csv(\"reviewsOnly.csv\") #reading the file\n",
    "new_df[\"percent\"] = new_df['reviews.rating'] /5 * 100 #create a new column its value is the rate in %\n",
    "new_df[\"rate\"] = np.where(new_df[\"reviews.rating\"]<4,\"bad\",\"good\") #new column its value is bad or good depending on the rate\n",
    "new_df[\"rate2\"] = new_df[\"percent\"].map(ch) #new column its value is by taking the percents' value and apply the function above\n",
    "#new_df=df.loc[:[\"rate\",\"reviews.rating\",\"reviews.title\",\"reviews.text\"]]\n",
    "new_df.to_csv(\"reviewsOnly.csv\") #Recreate the new data file with the new columns\n",
    "new_df[\"rate2\"] #print the new table\n",
    "'''apply() و map() متشابهتان في تطبيقهما على كل عنصر في سلسلة.\n",
    "apply() أكثر مرونة وتُستخدم لعمليات مُعقدة.\n",
    "map() أسرع وأكثر كفاءة لعمليات بسيطة.\n",
    "applymap() تُستخدم لتطبيق وظائف على DataFrame بأكملها أو على صفوفها أو أعمدتها.'''"
   ]
  },
  {
   "cell_type": "code",
   "execution_count": 98,
   "metadata": {},
   "outputs": [
    {
     "data": {
      "text/plain": [
       "rate\n",
       "good    32349\n",
       "bad      2311\n",
       "Name: count, dtype: int64"
      ]
     },
     "execution_count": 98,
     "metadata": {},
     "output_type": "execute_result"
    }
   ],
   "source": [
    "new_df['rate'].value_counts()\n",
    "# print the num of occurance for each value in 'rate'\n",
    "#used to know how much it appers"
   ]
  },
  {
   "cell_type": "code",
   "execution_count": 99,
   "metadata": {},
   "outputs": [
    {
     "data": {
      "text/plain": [
       "{'bad': [117, 126, 169, 222, 226, 241, 281, 297, 298, 310, 338, 354, 371, 421, 431, 444, 446, 490, 526, 536, 542, 607, 609, 633, 635, 649, 663, 693, 706, 727, 728, 751, 762, 764, 766, 792, 828, 847, 851, 869, 891, 898, 899, 903, 907, 924, 948, 958, 1020, 1038, 1050, 1069, 1081, 1171, 1207, 1228, 1229, 1236, 1262, 1282, 1284, 1311, 1318, 1341, 1355, 1368, 1372, 1399, 1400, 1431, 1474, 1495, 1502, 1575, 1584, 1610, 1663, 1672, 1711, 1712, 1722, 1739, 1761, 1803, 1818, 1825, 1829, 1866, 1884, 1898, 1902, 1904, 1907, 1952, 1976, 1980, 1999, 2022, 2027, 2109, ...], 'good': [0, 1, 2, 3, 4, 5, 6, 7, 8, 9, 10, 11, 12, 13, 14, 15, 16, 17, 18, 19, 20, 21, 22, 23, 24, 25, 26, 27, 28, 29, 30, 31, 32, 33, 34, 35, 36, 37, 38, 39, 40, 41, 42, 43, 44, 45, 46, 47, 48, 49, 50, 51, 52, 53, 54, 55, 56, 57, 58, 59, 60, 61, 62, 63, 64, 65, 66, 67, 68, 69, 70, 71, 72, 73, 74, 75, 76, 77, 78, 79, 80, 81, 82, 83, 84, 85, 86, 87, 88, 89, 90, 91, 92, 93, 94, 95, 96, 97, 98, 99, ...]}"
      ]
     },
     "execution_count": 99,
     "metadata": {},
     "output_type": "execute_result"
    }
   ],
   "source": [
    "groups= new_df.groupby('rate')\n",
    "groups.groups\n",
    "#يبطبع لك كل قيمة للريت بأي صف طلعت\n",
    "#used to know WHERE it appears"
   ]
  },
  {
   "cell_type": "code",
   "execution_count": 100,
   "metadata": {},
   "outputs": [
    {
     "data": {
      "text/plain": [
       "False    19767\n",
       "True     14893\n",
       "Name: count, dtype: int64"
      ]
     },
     "execution_count": 100,
     "metadata": {},
     "output_type": "execute_result"
    }
   ],
   "source": [
    "new_df.duplicated('reviews.title').value_counts()\n",
    "# check the number of duplicated titles and return them as true/false\n",
    "# then just print the number of Occurrence using value count function"
   ]
  },
  {
   "cell_type": "code",
   "execution_count": 101,
   "metadata": {},
   "outputs": [],
   "source": [
    "# new_df.drop_duplicates(' put the column you want ') you can also let it empty to check every raw is unique \n",
    "# this will delete duplicated items and store the new data file"
   ]
  },
  {
   "cell_type": "code",
   "execution_count": 102,
   "metadata": {},
   "outputs": [
    {
     "data": {
      "text/plain": [
       "Unnamed: 0         0\n",
       "reviews.rating    33\n",
       "reviews.title      6\n",
       "reviews.text       1\n",
       "percent           33\n",
       "rate               0\n",
       "rate2              0\n",
       "dtype: int64"
      ]
     },
     "execution_count": 102,
     "metadata": {},
     "output_type": "execute_result"
    }
   ],
   "source": [
    "new_df.isna().sum()\n",
    "#calc the NaN values in each column"
   ]
  },
  {
   "cell_type": "code",
   "execution_count": 103,
   "metadata": {},
   "outputs": [
    {
     "data": {
      "text/plain": [
       "0        5.0\n",
       "1        5.0\n",
       "2        5.0\n",
       "3        4.0\n",
       "4        5.0\n",
       "        ... \n",
       "34655    3.0\n",
       "34656    1.0\n",
       "34657    1.0\n",
       "34658    1.0\n",
       "34659    1.0\n",
       "Name: reviews.rating, Length: 34660, dtype: object"
      ]
     },
     "execution_count": 103,
     "metadata": {},
     "output_type": "execute_result"
    }
   ],
   "source": [
    "new_df['reviews.rating'].fillna('00000')"
   ]
  }
 ],
 "metadata": {
  "kernelspec": {
   "display_name": "Python 3",
   "language": "python",
   "name": "python3"
  },
  "language_info": {
   "codemirror_mode": {
    "name": "ipython",
    "version": 3
   },
   "file_extension": ".py",
   "mimetype": "text/x-python",
   "name": "python",
   "nbconvert_exporter": "python",
   "pygments_lexer": "ipython3",
   "version": "3.12.2"
  }
 },
 "nbformat": 4,
 "nbformat_minor": 2
}
